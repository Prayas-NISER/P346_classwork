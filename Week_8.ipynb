{
 "cells": [
  {
   "cell_type": "code",
   "execution_count": 1,
   "id": "2d356c1f",
   "metadata": {},
   "outputs": [],
   "source": [
    "# Monte Carlo integration\n",
    "def Monte_Carlo(f,a,b,N):\n",
    "    import Library.pRNG as Random\n",
    "    integral = 0\n",
    "    val = 0\n",
    "    r = Random.LCG(2,N)\n",
    "    for i in range(N):\n",
    "        x = a + (b-a)*r[i]\n",
    "        val += f(x)\n",
    "    integral = float(((b-a)*val)/N)    \n",
    "    return integral"
   ]
  },
  {
   "cell_type": "code",
   "execution_count": 38,
   "id": "74cbecf5",
   "metadata": {},
   "outputs": [
    {
     "data": {
      "text/plain": [
       "3.1417405193825565"
      ]
     },
     "execution_count": 38,
     "metadata": {},
     "output_type": "execute_result"
    }
   ],
   "source": [
    "f = lambda x: 4/(1+x**2)\n",
    "Monte_Carlo(f,0,1,1000000)"
   ]
  },
  {
   "cell_type": "code",
   "execution_count": 39,
   "id": "90524d77",
   "metadata": {},
   "outputs": [],
   "source": [
    "# Monte-Carlo integration followed by the plotting  of integral value\n",
    "def Monte_Carlo_withplot(f,a,b,N):\n",
    "    import Library.pRNG as Random\n",
    "    import matplotlib.pyplot as plt\n",
    "    integral_value = []\n",
    "    step = []\n",
    "    n = 10\n",
    "    r = Random.LCG(2,N)\n",
    "    \n",
    "    while n <= N:\n",
    "        integral = 0\n",
    "        val = 0\n",
    "        for i in range(n):\n",
    "            x = a + (b-a)*r[i]\n",
    "            val += f(x)\n",
    "        integral = float(((b-a)*val)/n)\n",
    "        integral_value.append(integral)\n",
    "        step.append(n)\n",
    "        n += 10\n",
    "    \n",
    "    print(\"Value of the integral calculated using Monte Carlo method =\", Monte_Carlo(f,a,b,N))\n",
    "    \n",
    "    plt.plot(step, integral_value)\n",
    "    plt.xlabel(\"N\")\n",
    "    plt.ylabel(\"Integral value\")\n",
    "    plt.grid(True)\n",
    "    plt.plot([min(x),max(x)],[3.1416,3.1416])\n",
    "    plt.show()"
   ]
  },
  {
   "cell_type": "code",
   "execution_count": 40,
   "id": "c5207b2f",
   "metadata": {},
   "outputs": [
    {
     "ename": "KeyboardInterrupt",
     "evalue": "",
     "output_type": "error",
     "traceback": [
      "\u001b[1;31m---------------------------------------------------------------------------\u001b[0m",
      "\u001b[1;31mKeyboardInterrupt\u001b[0m                         Traceback (most recent call last)",
      "Input \u001b[1;32mIn [40]\u001b[0m, in \u001b[0;36m<cell line: 2>\u001b[1;34m()\u001b[0m\n\u001b[0;32m      1\u001b[0m f \u001b[38;5;241m=\u001b[39m \u001b[38;5;28;01mlambda\u001b[39;00m x: \u001b[38;5;241m4\u001b[39m\u001b[38;5;241m/\u001b[39m(\u001b[38;5;241m1\u001b[39m\u001b[38;5;241m+\u001b[39mx\u001b[38;5;241m*\u001b[39m\u001b[38;5;241m*\u001b[39m\u001b[38;5;241m2\u001b[39m)\n\u001b[1;32m----> 2\u001b[0m \u001b[43mMonte_Carlo_withplot\u001b[49m\u001b[43m(\u001b[49m\u001b[43mf\u001b[49m\u001b[43m,\u001b[49m\u001b[38;5;241;43m0\u001b[39;49m\u001b[43m,\u001b[49m\u001b[38;5;241;43m1\u001b[39;49m\u001b[43m,\u001b[49m\u001b[38;5;241;43m1000000\u001b[39;49m\u001b[43m)\u001b[49m\n",
      "Input \u001b[1;32mIn [39]\u001b[0m, in \u001b[0;36mMonte_Carlo_withplot\u001b[1;34m(f, a, b, N)\u001b[0m\n\u001b[0;32m     13\u001b[0m \u001b[38;5;28;01mfor\u001b[39;00m i \u001b[38;5;129;01min\u001b[39;00m \u001b[38;5;28mrange\u001b[39m(n):\n\u001b[0;32m     14\u001b[0m     x \u001b[38;5;241m=\u001b[39m a \u001b[38;5;241m+\u001b[39m (b\u001b[38;5;241m-\u001b[39ma)\u001b[38;5;241m*\u001b[39mr[i]\n\u001b[1;32m---> 15\u001b[0m     val \u001b[38;5;241m+\u001b[39m\u001b[38;5;241m=\u001b[39m \u001b[43mf\u001b[49m\u001b[43m(\u001b[49m\u001b[43mx\u001b[49m\u001b[43m)\u001b[49m\n\u001b[0;32m     16\u001b[0m integral \u001b[38;5;241m=\u001b[39m \u001b[38;5;28mfloat\u001b[39m(((b\u001b[38;5;241m-\u001b[39ma)\u001b[38;5;241m*\u001b[39mval)\u001b[38;5;241m/\u001b[39mn)\n\u001b[0;32m     17\u001b[0m integral_value\u001b[38;5;241m.\u001b[39mappend(integral)\n",
      "\u001b[1;31mKeyboardInterrupt\u001b[0m: "
     ]
    }
   ],
   "source": [
    "f = lambda x: 4/(1+x**2)\n",
    "Monte_Carlo_withplot(f,0,1,1000000)"
   ]
  }
 ],
 "metadata": {
  "kernelspec": {
   "display_name": "Python 3 (ipykernel)",
   "language": "python",
   "name": "python3"
  },
  "language_info": {
   "codemirror_mode": {
    "name": "ipython",
    "version": 3
   },
   "file_extension": ".py",
   "mimetype": "text/x-python",
   "name": "python",
   "nbconvert_exporter": "python",
   "pygments_lexer": "ipython3",
   "version": "3.9.12"
  }
 },
 "nbformat": 4,
 "nbformat_minor": 5
}
